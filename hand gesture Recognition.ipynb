{
 "cells": [
  {
   "cell_type": "code",
   "execution_count": 1,
   "metadata": {},
   "outputs": [],
   "source": [
    "import numpy as np\n",
    "import pandas as pd\n",
    "import matplotlib.pyplot as plt\n"
   ]
  },
  {
   "cell_type": "code",
   "execution_count": 2,
   "metadata": {},
   "outputs": [],
   "source": [
    "import tensorflow as tf"
   ]
  },
  {
   "cell_type": "code",
   "execution_count": 3,
   "metadata": {},
   "outputs": [
    {
     "name": "stderr",
     "output_type": "stream",
     "text": [
      "Using TensorFlow backend.\n"
     ]
    }
   ],
   "source": [
    "import keras\n",
    "from keras.preprocessing.image import ImageDataGenerator"
   ]
  },
  {
   "cell_type": "code",
   "execution_count": 8,
   "metadata": {},
   "outputs": [
    {
     "name": "stdout",
     "output_type": "stream",
     "text": [
      "Found 15808 images belonging to 10 classes.\n"
     ]
    }
   ],
   "source": [
    "train_datagen = ImageDataGenerator(\n",
    "        rescale=1./255,\n",
    "        shear_range=0.2,\n",
    "        zoom_range=0.2,\n",
    "        horizontal_flip=True)\n",
    "training_data=train_datagen.flow_from_directory(\n",
    "        'E:/machine learning/Dataset/training',\n",
    "        target_size=(64, 64),\n",
    "        batch_size=32,\n",
    "        class_mode='categorical')"
   ]
  },
  {
   "cell_type": "code",
   "execution_count": 9,
   "metadata": {},
   "outputs": [
    {
     "name": "stdout",
     "output_type": "stream",
     "text": [
      "Found 4231 images belonging to 10 classes.\n"
     ]
    }
   ],
   "source": [
    "test_datagen = ImageDataGenerator(rescale = 1./255)\n",
    "test_data= test_datagen.flow_from_directory('E:/machine learning/Dataset/test',\n",
    "                                            target_size = (64, 64),\n",
    "                                            batch_size = 32,\n",
    "                                            class_mode = 'categorical')\n"
   ]
  },
  {
   "cell_type": "code",
   "execution_count": 10,
   "metadata": {},
   "outputs": [],
   "source": [
    "cnn=tf.keras.models.Sequential()"
   ]
  },
  {
   "cell_type": "code",
   "execution_count": 11,
   "metadata": {},
   "outputs": [],
   "source": [
    "cnn.add(tf.keras.layers.Conv2D(filters=32, kernel_size=3, padding=\"same\", activation=\"relu\", input_shape=[64, 64, 3]))"
   ]
  },
  {
   "cell_type": "code",
   "execution_count": 12,
   "metadata": {},
   "outputs": [],
   "source": [
    "cnn.add(tf.keras.layers.MaxPool2D(pool_size=2, strides=2, padding='valid'))"
   ]
  },
  {
   "cell_type": "code",
   "execution_count": 13,
   "metadata": {},
   "outputs": [],
   "source": [
    "cnn.add(tf.keras.layers.Conv2D(filters=32, kernel_size=3, padding=\"same\", activation=\"relu\",))\n",
    "cnn.add(tf.keras.layers.MaxPool2D(pool_size=2, strides=2, padding='valid'))"
   ]
  },
  {
   "cell_type": "code",
   "execution_count": 14,
   "metadata": {},
   "outputs": [],
   "source": [
    "cnn.add(tf.keras.layers.Conv2D(filters=32, kernel_size=3, padding=\"same\", activation=\"relu\",))\n",
    "cnn.add(tf.keras.layers.MaxPool2D(pool_size=2, strides=2, padding='valid'))"
   ]
  },
  {
   "cell_type": "code",
   "execution_count": 15,
   "metadata": {},
   "outputs": [],
   "source": [
    "cnn.add(tf.keras.layers.Flatten())"
   ]
  },
  {
   "cell_type": "code",
   "execution_count": 16,
   "metadata": {},
   "outputs": [],
   "source": [
    "cnn.add(tf.keras.layers.Dense(units=256, activation='relu'))\n",
    "cnn.add(tf.keras.layers.Dropout(0.5))"
   ]
  },
  {
   "cell_type": "code",
   "execution_count": 17,
   "metadata": {},
   "outputs": [],
   "source": [
    "cnn.add(tf.keras.layers.Dense(units=10, activation='softmax'))"
   ]
  },
  {
   "cell_type": "code",
   "execution_count": 18,
   "metadata": {},
   "outputs": [],
   "source": [
    "cnn.compile(optimizer = 'adam', loss = 'categorical_crossentropy', metrics = ['accuracy'])"
   ]
  },
  {
   "cell_type": "code",
   "execution_count": null,
   "metadata": {},
   "outputs": [],
   "source": []
  },
  {
   "cell_type": "code",
   "execution_count": 21,
   "metadata": {},
   "outputs": [
    {
     "name": "stdout",
     "output_type": "stream",
     "text": [
      "Epoch 1/25\n",
      "494/494 [==============================] - 857s 2s/step - loss: 0.0370 - accuracy: 0.9877 - val_loss: 0.1286 - val_accuracy: 0.9407\n",
      "Epoch 2/25\n",
      "494/494 [==============================] - 333s 674ms/step - loss: 0.0225 - accuracy: 0.9924 - val_loss: 0.2303 - val_accuracy: 0.9161\n",
      "Epoch 3/25\n",
      "494/494 [==============================] - 391s 791ms/step - loss: 0.0216 - accuracy: 0.9932 - val_loss: 0.2358 - val_accuracy: 0.9331\n",
      "Epoch 4/25\n",
      "494/494 [==============================] - 404s 819ms/step - loss: 0.0205 - accuracy: 0.9926 - val_loss: 0.1733 - val_accuracy: 0.9497\n",
      "Epoch 5/25\n",
      "494/494 [==============================] - 339s 686ms/step - loss: 0.0152 - accuracy: 0.9952 - val_loss: 0.2935 - val_accuracy: 0.9350\n",
      "Epoch 6/25\n",
      "494/494 [==============================] - 408s 825ms/step - loss: 0.0198 - accuracy: 0.9927 - val_loss: 0.0831 - val_accuracy: 0.9582\n",
      "Epoch 7/25\n",
      "494/494 [==============================] - 388s 784ms/step - loss: 0.0181 - accuracy: 0.9951 - val_loss: 0.4535 - val_accuracy: 0.9081\n",
      "Epoch 8/25\n",
      "494/494 [==============================] - 389s 788ms/step - loss: 0.0201 - accuracy: 0.9932 - val_loss: 0.1585 - val_accuracy: 0.9683\n",
      "Epoch 9/25\n",
      "494/494 [==============================] - 421s 853ms/step - loss: 0.0206 - accuracy: 0.9946 - val_loss: 0.2027 - val_accuracy: 0.9645\n",
      "Epoch 10/25\n",
      "494/494 [==============================] - 752s 2s/step - loss: 0.0093 - accuracy: 0.9973 - val_loss: 0.3820 - val_accuracy: 0.9456\n",
      "Epoch 11/25\n",
      "494/494 [==============================] - 667s 1s/step - loss: 0.0090 - accuracy: 0.9975 - val_loss: 0.0597 - val_accuracy: 0.9813\n",
      "Epoch 12/25\n",
      "494/494 [==============================] - 427s 864ms/step - loss: 0.0093 - accuracy: 0.9966 - val_loss: 0.0892 - val_accuracy: 0.9771\n",
      "Epoch 13/25\n",
      "494/494 [==============================] - 443s 896ms/step - loss: 0.0183 - accuracy: 0.9947 - val_loss: 0.3600 - val_accuracy: 0.9648\n",
      "Epoch 14/25\n",
      "494/494 [==============================] - 398s 806ms/step - loss: 0.0111 - accuracy: 0.9967 - val_loss: 0.2403 - val_accuracy: 0.9421\n",
      "Epoch 15/25\n",
      "494/494 [==============================] - 363s 735ms/step - loss: 0.0074 - accuracy: 0.9977 - val_loss: 0.8855 - val_accuracy: 0.9033\n",
      "Epoch 16/25\n",
      "494/494 [==============================] - 393s 796ms/step - loss: 0.0094 - accuracy: 0.9973 - val_loss: 0.3066 - val_accuracy: 0.9627\n",
      "Epoch 17/25\n",
      "494/494 [==============================] - 527s 1s/step - loss: 0.0114 - accuracy: 0.9970 - val_loss: 0.4152 - val_accuracy: 0.9395\n",
      "Epoch 18/25\n",
      "494/494 [==============================] - 599s 1s/step - loss: 0.0075 - accuracy: 0.9978 - val_loss: 0.3555 - val_accuracy: 0.9305\n",
      "Epoch 19/25\n",
      "494/494 [==============================] - 822s 2s/step - loss: 0.0095 - accuracy: 0.9971 - val_loss: 0.2374 - val_accuracy: 0.9615\n",
      "Epoch 20/25\n",
      "494/494 [==============================] - 443s 896ms/step - loss: 0.0073 - accuracy: 0.9980 - val_loss: 0.3914 - val_accuracy: 0.9241\n",
      "Epoch 21/25\n",
      "494/494 [==============================] - 424s 859ms/step - loss: 0.0083 - accuracy: 0.9973 - val_loss: 0.7057 - val_accuracy: 0.8889\n",
      "Epoch 22/25\n",
      "494/494 [==============================] - 351s 711ms/step - loss: 0.0106 - accuracy: 0.9967 - val_loss: 0.1776 - val_accuracy: 0.9523\n",
      "Epoch 23/25\n",
      "494/494 [==============================] - 102s 207ms/step - loss: 0.0059 - accuracy: 0.9978 - val_loss: 0.1359 - val_accuracy: 0.9648\n",
      "Epoch 24/25\n",
      "494/494 [==============================] - 111s 224ms/step - loss: 0.0064 - accuracy: 0.9982 - val_loss: 0.6143 - val_accuracy: 0.8899\n",
      "Epoch 25/25\n",
      "494/494 [==============================] - 109s 220ms/step - loss: 0.0063 - accuracy: 0.9982 - val_loss: 0.1899 - val_accuracy: 0.9504\n"
     ]
    }
   ],
   "source": [
    "model=cnn.fit_generator(training_data,\n",
    "                  steps_per_epoch = 494,\n",
    "                  epochs = 25,\n",
    "                  validation_data = test_data,\n",
    "                  validation_steps = 133)"
   ]
  },
  {
   "cell_type": "code",
   "execution_count": 22,
   "metadata": {},
   "outputs": [
    {
     "name": "stdout",
     "output_type": "stream",
     "text": [
      "ok\n"
     ]
    }
   ],
   "source": [
    "from keras.preprocessing import image\n",
    "test_image = image.load_img('E:/machine learning/Dataset/test_image.png', target_size=(64, 64))\n",
    "test_image = image.img_to_array(test_image)\n",
    "test_image = np.expand_dims(test_image, axis = 0)\n",
    "result = cnn.predict(test_image)\n",
    "if result[0][0] == 1:\n",
    "    print('palm')\n",
    "elif result[0][1] == 1:\n",
    "    print('I')\n",
    "elif result[0][2] == 1:\n",
    "    print('fist')\n",
    "elif result[0][3] == 1:\n",
    "    print('fist moved')\n",
    "elif result[0][4] == 1:\n",
    "    print('thumb')\n",
    "elif result[0][5] == 1:\n",
    "    print('index')\n",
    "elif result[0][6] == 1:\n",
    "    print('ok')\n",
    "elif result[0][7] == 1:\n",
    "    print('palm moved')\n",
    "elif result[0][8] == 1:\n",
    "    print('C')\n",
    "elif result[0][9] == 1:\n",
    "    print('down')\n"
   ]
  },
  {
   "cell_type": "code",
   "execution_count": 3,
   "metadata": {},
   "outputs": [],
   "source": []
  },
  {
   "cell_type": "code",
   "execution_count": null,
   "metadata": {
    "scrolled": false
   },
   "outputs": [],
   "source": []
  },
  {
   "cell_type": "code",
   "execution_count": 55,
   "metadata": {},
   "outputs": [],
   "source": []
  },
  {
   "cell_type": "code",
   "execution_count": null,
   "metadata": {},
   "outputs": [],
   "source": []
  }
 ],
 "metadata": {
  "kernelspec": {
   "display_name": "Python 3",
   "language": "python",
   "name": "python3"
  },
  "language_info": {
   "codemirror_mode": {
    "name": "ipython",
    "version": 3
   },
   "file_extension": ".py",
   "mimetype": "text/x-python",
   "name": "python",
   "nbconvert_exporter": "python",
   "pygments_lexer": "ipython3",
   "version": "3.7.4"
  }
 },
 "nbformat": 4,
 "nbformat_minor": 4
}
